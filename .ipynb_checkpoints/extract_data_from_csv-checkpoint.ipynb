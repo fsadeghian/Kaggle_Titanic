{
 "cells": [
  {
   "cell_type": "code",
   "execution_count": 5,
   "metadata": {},
   "outputs": [
    {
     "name": "stdout",
     "output_type": "stream",
     "text": [
      "714\n"
     ]
    }
   ],
   "source": [
    "# Define a function for extracting each column of the input csv file\n",
    "def extract_data_from_csv(csv_filename,column_name):\n",
    "    import numpy as np\n",
    "    import pandas as pd\n",
    "    \n",
    "    data = pd.read_csv(csv_filename)\n",
    "    \n",
    "    data_allValues = data[column_name].values\n",
    "    \n",
    "    data_realValues_ind = np.nonzero(~np.isnan(data_allValues)) # Find all real (~NaN) values in train_Age\n",
    "    data_realValues = data_allValues[data_realValues_ind]\n",
    "\n",
    "    return(data_allValues,data_realValues)\n",
    "# End of function\n",
    "\n",
    "data_allValues,data_realValues = extract_data_from_csv(csv_filename='/home/amir/Dropbox/Python_codes/GIT_repositories/Kaggle_Titanic/Data/train.csv',column_name='Age')\n",
    "\n",
    "tmp = len(data_realValues); print tmp"
   ]
  },
  {
   "cell_type": "code",
   "execution_count": null,
   "metadata": {},
   "outputs": [],
   "source": []
  }
 ],
 "metadata": {
  "kernelspec": {
   "display_name": "Python 2",
   "language": "python",
   "name": "python2"
  },
  "language_info": {
   "codemirror_mode": {
    "name": "ipython",
    "version": 2
   },
   "file_extension": ".py",
   "mimetype": "text/x-python",
   "name": "python",
   "nbconvert_exporter": "python",
   "pygments_lexer": "ipython2",
   "version": "2.7.12"
  }
 },
 "nbformat": 4,
 "nbformat_minor": 2
}
