{
 "cells": [
  {
   "cell_type": "code",
   "execution_count": 129,
   "metadata": {},
   "outputs": [],
   "source": [
    "# Clear all existing variables at the beginning\n",
    "for name in dir():\n",
    "    del globals()[name]\n",
    "del name"
   ]
  },
  {
   "cell_type": "code",
   "execution_count": 137,
   "metadata": {},
   "outputs": [],
   "source": [
    "# Import necessary libraries\n",
    "import pandas as pd\n",
    "import numpy as np\n",
    "from matplotlib import pyplot as plt\n",
    "plt.close() # Close all possibly open figures"
   ]
  },
  {
   "cell_type": "code",
   "execution_count": 132,
   "metadata": {},
   "outputs": [
    {
     "name": "stdout",
     "output_type": "stream",
     "text": [
      "'Type of the train data is: ', <class 'pandas.core.frame.DataFrame'>, ' and its size is: ', (891, 12)\n"
     ]
    }
   ],
   "source": [
    "# Load train and test data\n",
    "train_data = pd.read_csv('/home/amir/Dropbox/Python_codes/GIT_repositories/Kaggle_Titanic/Data/train.csv')\n",
    "test_data = pd.read_csv('/home/amir/Dropbox/Python_codes/GIT_repositories/Kaggle_Titanic/Data/test.csv')\n",
    "\n",
    "train_data_shape = train_data.shape # Size of train_data\n",
    "train_data_type = type(train_data) # Type of the train_data variable\n",
    "\n",
    "text = (\"Type of the train data is: \", train_data_type, \" and its size is: \", train_data_shape)\n",
    "text = str(text)\n",
    "print text[1:len(text)-1]"
   ]
  },
  {
   "cell_type": "code",
   "execution_count": 141,
   "metadata": {},
   "outputs": [],
   "source": [
    "# Check a few attributes of the train/test data variables\n",
    "train_ID = train_data['PassengerId'].values\n",
    "#train_ID = train_ID.astype(float)\n",
    "\n",
    "train_Age = train_data['Age'].values # There are some NaN Age-values for a handful of passengers.  \n",
    "#train_Age = train_Age.astype(float)\n",
    "\n",
    "train_Pclass = train_data['Pclass'].values # There are some NaN Age-values for a handful of passengers.  \n",
    "#train_Pclass = train_Pclass.astype(float)\n"
   ]
  },
  {
   "cell_type": "code",
   "execution_count": 145,
   "metadata": {},
   "outputs": [
    {
     "data": {
      "image/png": "[encoded data removed]",
      "text/plain": [
       "<matplotlib.figure.Figure at 0x7ff655d4d590>"
      ]
     },
     "metadata": {},
     "output_type": "display_data"
    }
   ],
   "source": [
    "f, ((ax1,ax2),(ax3,ax4)) = plt.subplots(2,2)\n",
    "ax1.plot(train_ID,train_Pclass)\n",
    "plt.show()"
   ]
  },
  {
   "cell_type": "code",
   "execution_count": null,
   "metadata": {},
   "outputs": [],
   "source": []
  }
 ],
 "metadata": {
  "kernelspec": {
   "display_name": "Python 2",
   "language": "python",
   "name": "python2"
  },
  "language_info": {
   "codemirror_mode": {
    "name": "ipython",
    "version": 2
   },
   "file_extension": ".py",
   "mimetype": "text/x-python",
   "name": "python",
   "nbconvert_exporter": "python",
   "pygments_lexer": "ipython2",
   "version": "2.7.12"
  }
 },
 "nbformat": 4,
 "nbformat_minor": 2
}
